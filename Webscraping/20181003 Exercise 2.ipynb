{
 "cells": [
  {
   "cell_type": "markdown",
   "metadata": {},
   "source": [
    "## Exercise 2.1: Innovation"
   ]
  },
  {
   "cell_type": "code",
   "execution_count": null,
   "metadata": {},
   "outputs": [],
   "source": [
    "import requests\n",
    "from bs4 import BeautifulSoup\n",
    "import time"
   ]
  },
  {
   "cell_type": "markdown",
   "metadata": {},
   "source": [
    "- Using requests.py and beautifulsoup.py retrieve a list of **titles** of all **innovation articles** on this page and print them.\n"
   ]
  },
  {
   "cell_type": "code",
   "execution_count": null,
   "metadata": {},
   "outputs": [],
   "source": [
    "www = 'https://www.cbs.nl'\n",
    "r = requests.get(f'{www}/en-gb/our-services/innovation')\n",
    "soup = BeautifulSoup(r.text,'lxml') #or html.parser, html5lib"
   ]
  },
  {
   "cell_type": "code",
   "execution_count": null,
   "metadata": {},
   "outputs": [],
   "source": [
    "# solution 1: using native BeautifullSoup selector\n",
    "for i in soup.find_all('div', class_='caption'):\n",
    "    print(i.h3.text)"
   ]
  },
  {
   "cell_type": "code",
   "execution_count": null,
   "metadata": {},
   "outputs": [],
   "source": [
    "# solution 2: using a CSS selector\n",
    "for h3 in soup.select('section div div h3'):\n",
    "    print(h3.text)"
   ]
  },
  {
   "cell_type": "markdown",
   "metadata": {},
   "source": [
    "- For each innovation article retrieve the **first paragraph** and print it."
   ]
  },
  {
   "cell_type": "code",
   "execution_count": null,
   "metadata": {},
   "outputs": [],
   "source": [
    "# First try your code for one article\n",
    "r = requests.get('https://www.cbs.nl/en-gb/our-services/innovation/project/innovation-in-small-businesses')\n",
    "s = BeautifulSoup(r.text, 'lxml')\n",
    "sel = s.select('section')\n",
    "print(sel[0].text[:500].strip())"
   ]
  },
  {
   "cell_type": "code",
   "execution_count": null,
   "metadata": {},
   "outputs": [],
   "source": [
    "# Then loop through all articles\n",
    "for a in soup.select('section div div a'):\n",
    "    art = a['href']\n",
    "    r = requests.get(f'{www}{art}')\n",
    "    s = BeautifulSoup(r.text, 'lxml')\n",
    "    sel = s.select('section')\n",
    "    print(sel[0].text[:500].strip())\n",
    "    print('********************')\n",
    "    time.sleep(1) # in robots.txt CBS advises a delay of 1 second"
   ]
  },
  {
   "cell_type": "markdown",
   "metadata": {},
   "source": [
    "- Option: retrieve all urls to images in all innovation articles and show them "
   ]
  },
  {
   "cell_type": "code",
   "execution_count": null,
   "metadata": {},
   "outputs": [],
   "source": []
  }
 ],
 "metadata": {
  "kernelspec": {
   "display_name": "Python 3",
   "language": "python",
   "name": "python3"
  },
  "language_info": {
   "codemirror_mode": {
    "name": "ipython",
    "version": 3
   },
   "file_extension": ".py",
   "mimetype": "text/x-python",
   "name": "python",
   "nbconvert_exporter": "python",
   "pygments_lexer": "ipython3",
   "version": "3.6.3"
  }
 },
 "nbformat": 4,
 "nbformat_minor": 2
}
