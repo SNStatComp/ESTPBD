{
 "cells": [
  {
   "cell_type": "markdown",
   "metadata": {},
   "source": [
    "## Exercise 1.1: robots.txt"
   ]
  },
  {
   "cell_type": "markdown",
   "metadata": {},
   "source": [
    "Retrieve robots.txt in the browser via:\n",
    "https://http://www.unece.org/robots.txt\n",
    "\n",
    "    User-agent: *\n",
    "    Disallow:\n",
    "\n",
    "This means that every scraper is fully allowed everywhere (see http://www.robotstxt.org/robotstxt.html) so we are allowed to scrape."
   ]
  },
  {
   "cell_type": "markdown",
   "metadata": {},
   "source": [
    "Retrieve robots.txt in the browser via: https://www.ikea.com/robots.txt\n",
    "\n",
    "The search field generates a request:\n",
    "    \n",
    "    https://www.ikea.com/gb/en/search/?k=bookshelf\n",
    "        \n",
    "The robots.txt has a line:\n",
    "    \n",
    "    Disallow: /gb/en/search/\n",
    "        \n",
    "So the answer is no"
   ]
  },
  {
   "cell_type": "markdown",
   "metadata": {},
   "source": [
    "## Exercise 1.2: REST"
   ]
  },
  {
   "cell_type": "markdown",
   "metadata": {},
   "source": [
    "The URLS in the address bar are:\n",
    "    \n",
    "    http://testing-ground.scraping.pro/table?products=1&years=1&quarters=1\n",
    "    http://testing-ground.scraping.pro/table?products=4&years=3&quarters=2\n",
    "    http://testing-ground.scraping.pro/table?products=10&years=10&quarters=4\n",
    "        \n",
    "The URL for 50 products, 5 years and 2 quarters is:\n",
    "    \n",
    "    http://testing-ground.scraping.pro/table?products=50&years=5&quarters=2\n",
    "        \n",
    "The data is returned on the request:\n",
    "    \n",
    "    table?products=50&years=5&quarters=2\n",
    "\n",
    "The format is HTML, the data is contained in an HTML table.\n",
    "    "
   ]
  },
  {
   "cell_type": "markdown",
   "metadata": {},
   "source": [
    "## Exercise 1.3: Where is the data?"
   ]
  },
  {
   "cell_type": "markdown",
   "metadata": {},
   "source": [
    "When clicking on the links, additional content is loaded into the web page.\n",
    "\n",
    "The first link loads data in XML\n",
    "\n",
    "The second link loads data in JSON\n",
    "\n",
    "The JSON response is shorter"
   ]
  },
  {
   "cell_type": "markdown",
   "metadata": {},
   "source": [
    "## Exercise 1.4: price list"
   ]
  },
  {
   "cell_type": "markdown",
   "metadata": {},
   "source": [
    "For the Apple Macbook case 1:\n",
    "    \n",
    "The HTML tag containing the price is a span\n",
    "\n",
    "The HTML tag containing the name is a div\n",
    "\n",
    "The containing div has class prod2"
   ]
  },
  {
   "cell_type": "markdown",
   "metadata": {},
   "source": [
    "For the Apple Macbook case 2:\n",
    "    \n",
    "The HTML tag containing the price is a div\n",
    "\n",
    "The HTML tag containing the name is a div\n",
    "\n",
    "The containing div has class prod2"
   ]
  },
  {
   "cell_type": "markdown",
   "metadata": {},
   "source": [
    "Case 1 would be easier to scrape."
   ]
  }
 ],
 "metadata": {
  "kernelspec": {
   "display_name": "Python 3",
   "language": "python",
   "name": "python3"
  },
  "language_info": {
   "codemirror_mode": {
    "name": "ipython",
    "version": 3
   },
   "file_extension": ".py",
   "mimetype": "text/x-python",
   "name": "python",
   "nbconvert_exporter": "python",
   "pygments_lexer": "ipython3",
   "version": "3.6.5"
  }
 },
 "nbformat": 4,
 "nbformat_minor": 2
}
